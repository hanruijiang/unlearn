{
 "cells": [
  {
   "cell_type": "code",
   "execution_count": 1,
   "id": "d356bd5c-356a-425a-b82f-d562774efe6c",
   "metadata": {},
   "outputs": [],
   "source": [
    "import os\n",
    "os.environ['CUDA_VISIBLE_DEVICES'] = '0'\n",
    "import sys\n",
    "\n",
    "import pandas as pd\n",
    "import numpy as np\n",
    "\n",
    "import time\n",
    "\n",
    "import torch\n",
    "\n",
    "import copy\n",
    "from collections import OrderedDict\n",
    "\n",
    "from tqdm.auto import tqdm"
   ]
  },
  {
   "cell_type": "code",
   "execution_count": 2,
   "id": "54063a47-e412-4c76-a16b-be88afdec0d4",
   "metadata": {},
   "outputs": [],
   "source": [
    "from datasets import load_original_dataset, load_deleted_dataset\n",
    "from models import CNN"
   ]
  },
  {
   "cell_type": "code",
   "execution_count": 3,
   "id": "8332551d-ac8c-414b-ac76-c948e510534e",
   "metadata": {},
   "outputs": [],
   "source": [
    "DATA_DIR = 'Datasets/Features/'\n",
    "BATCH_SIZE = 256\n",
    "WEIGHT_DECAY = 0.1\n",
    "EPOCHS = 1\n",
    "PERCENTAGES = [1, 10, 20, 30, 40, 50, 60, 70, 80, 90, 99]"
   ]
  },
  {
   "cell_type": "code",
   "execution_count": 4,
   "id": "05786a9b-8316-4233-b5b3-33f6aa1a791b",
   "metadata": {},
   "outputs": [],
   "source": [
    "sys.path.append(os.path.abspath('./libraries/SelectiveForgetting/'))"
   ]
  },
  {
   "cell_type": "markdown",
   "id": "db3df1d3-bcbc-46f2-bd50-4f7a9ad60c2b",
   "metadata": {},
   "source": [
    "# NTK based Forgetting"
   ]
  },
  {
   "cell_type": "code",
   "execution_count": 5,
   "id": "294106d0-b983-40f6-bd61-2f4dbd89e35f",
   "metadata": {},
   "outputs": [],
   "source": [
    "def vectorize_params(model):\n",
    "    param = []\n",
    "    for p in model.parameters():\n",
    "        param.append(p.data.view(-1).cpu().numpy())\n",
    "    return np.concatenate(param)\n",
    "\n",
    "\n",
    "# NTK Update\n",
    "\n",
    "\n",
    "def delta_w_utils(model, dataset):\n",
    "    model.eval()\n",
    "    dataloader = torch.utils.data.DataLoader(dataset, batch_size=BATCH_SIZE, shuffle=False, drop_last=False)\n",
    "    num = len(dataloader)\n",
    "    \n",
    "    G_list = []\n",
    "    f0_minus_y = []\n",
    "    \n",
    "    for idx, batch in enumerate(tqdm(dataloader, leave=False)):\n",
    "        batch = [tensor.cuda() for tensor in batch]\n",
    "        input, target = batch\n",
    "        # if \"mnist\" in args.dataset:\n",
    "        #     input = input.view(input.shape[0], -1)\n",
    "        target = target.cpu().detach().numpy()\n",
    "        output = model(input)\n",
    "        \n",
    "        G_sample=[]\n",
    "        for cls in range(output.shape[-1]):\n",
    "            grads = torch.autograd.grad(\n",
    "                output[0, cls], model.parameters(), retain_graph=True\n",
    "            )\n",
    "            grads = np.concatenate([g.view(-1).cpu().numpy() for g in grads])\n",
    "            G_sample.append(grads)\n",
    "\n",
    "        grads = np.stack(G_sample).transpose()\n",
    "        G_list.append(grads)\n",
    "\n",
    "        # if args.lossfn=='ce':\n",
    "        p = (\n",
    "            torch.nn.functional.softmax(output, dim=1)\n",
    "            .cpu()\n",
    "            .detach()\n",
    "            .numpy()\n",
    "            .transpose()\n",
    "        )\n",
    "        p[target] -= 1\n",
    "        f0_y_update = copy.deepcopy(p)\n",
    "        \n",
    "        f0_minus_y.append(f0_y_update.mean(axis=-1, keepdims=True))\n",
    "\n",
    "    return num, np.concatenate(G_list, axis=-1), np.vstack(f0_minus_y)\n",
    "\n",
    "\n",
    "# Reshape delta_w\n",
    "\n",
    "\n",
    "def get_delta_w_dict(delta_w, model):\n",
    "    # Give normalized delta_w\n",
    "    delta_w_dict = OrderedDict()\n",
    "    params_visited = 0\n",
    "    for k, p in model.named_parameters():\n",
    "        num_params = np.prod(list(p.shape))\n",
    "        update_params = delta_w[params_visited : params_visited + num_params]\n",
    "        delta_w_dict[k] = torch.Tensor(update_params).view_as(p)\n",
    "        params_visited += num_params\n",
    "    return delta_w_dict\n"
   ]
  },
  {
   "cell_type": "code",
   "execution_count": 6,
   "id": "6d29ed57-ab1a-4bf9-9138-07feca126fe3",
   "metadata": {},
   "outputs": [],
   "source": [
    "def worker(model, model_init, train_set, forget_set):\n",
    "\n",
    "    # Jacobians and Hessians\n",
    "    \n",
    "    num_to_retain, G_r, f0_minus_y_r = delta_w_utils(copy.deepcopy(model), train_set)\n",
    "    \n",
    "    num_to_forget, G_f, f0_minus_y_f = delta_w_utils(copy.deepcopy(model), forget_set)\n",
    "    \n",
    "    G = np.concatenate([G_r, G_f], axis=1)\n",
    "    f0_minus_y = np.concatenate([f0_minus_y_r, f0_minus_y_f])\n",
    "    \n",
    "    # w_lin(D)\n",
    "    \n",
    "    num_total = num_to_retain + num_to_forget\n",
    "    \n",
    "    theta = G.transpose().dot(G) + num_total * WEIGHT_DECAY * np.eye(G.shape[1])\n",
    "    theta_inv = np.linalg.inv(theta)\n",
    "    \n",
    "    w_complete = -G.dot(theta_inv.dot(f0_minus_y))\n",
    "    \n",
    "    # w_lin(D_r)\n",
    "    \n",
    "    theta_r = G_r.transpose().dot(G_r) + num_to_retain * WEIGHT_DECAY * np.eye(\n",
    "        G_r.shape[1]\n",
    "    )\n",
    "    theta_r_inv = np.linalg.inv(theta_r)\n",
    "    \n",
    "    w_retain = -G_r.dot(theta_r_inv.dot(f0_minus_y_r))\n",
    "    \n",
    "    # Scrubbing Direction\n",
    "    \n",
    "    delta_w = (w_retain - w_complete).squeeze()\n",
    "    \n",
    "    # Trapezium Trick\n",
    "    \n",
    "    m_pred_error = (\n",
    "        vectorize_params(model) - vectorize_params(model_init) - w_retain.squeeze()\n",
    "    )\n",
    "    \n",
    "    inner = np.inner(\n",
    "        delta_w / np.linalg.norm(delta_w), m_pred_error / np.linalg.norm(m_pred_error)\n",
    "    )\n",
    "    \n",
    "    if inner < 0:\n",
    "        angle = np.arccos(inner) - np.pi / 2\n",
    "        predicted_norm = np.linalg.norm(delta_w) + 2 * np.sin(angle) * np.linalg.norm(\n",
    "            m_pred_error\n",
    "        )\n",
    "    else:  \n",
    "        angle = np.arccos(inner)\n",
    "        predicted_norm = np.linalg.norm(delta_w) + 2 * np.cos(angle) * np.linalg.norm(\n",
    "            m_pred_error\n",
    "        )\n",
    "    \n",
    "    predicted_scale = predicted_norm / np.linalg.norm(delta_w)\n",
    "    \n",
    "    # Scrub using NTK\n",
    "    \n",
    "    scale = predicted_scale\n",
    "    direction = get_delta_w_dict(delta_w, model)\n",
    "    \n",
    "    model_scrub = copy.deepcopy(model)\n",
    "    for k, p in model_scrub.named_parameters():\n",
    "        p.data += (direction[k] * scale).cuda()\n",
    "    \n",
    "    return model_scrub"
   ]
  },
  {
   "cell_type": "code",
   "execution_count": 7,
   "id": "49d9492f-13b3-4415-9fbc-d7a49f130624",
   "metadata": {},
   "outputs": [],
   "source": [
    "def fit(model, model_init, save_dir, train_set, test_set, forget_set):\n",
    "    \n",
    "    os.makedirs(save_dir, exist_ok=True)\n",
    "\n",
    "    train_times = list()\n",
    "    train_accs, test_accs, forget_accs = list(), list(), list()\n",
    "    \n",
    "    for epoch in range(EPOCHS):\n",
    "        \n",
    "        # train\n",
    "        \n",
    "        train_time = 0\n",
    "        \n",
    "        start_time = time.time()\n",
    "        \n",
    "        model_scrub = worker(model, model_init, train_set, forget_set)\n",
    "        \n",
    "        train_time += time.time() - start_time\n",
    "        \n",
    "        start_time = time.time()\n",
    "            \n",
    "        train_times.append(train_time)\n",
    "        \n",
    "        # test\n",
    "            \n",
    "        model_scrub.eval()\n",
    "        with torch.no_grad():\n",
    "            \n",
    "            x, y = train_set.tensors\n",
    "            \n",
    "            accs = list()\n",
    "            \n",
    "            for i in range(0, x.shape[0], BATCH_SIZE):\n",
    "            \n",
    "                output = model_scrub(x[i:i+BATCH_SIZE].cuda())\n",
    "\n",
    "                predicted = torch.argmax(output.data, dim=-1)\n",
    "                accs.append((predicted == y[i:i+BATCH_SIZE].cuda()).float().mean().detach().cpu().numpy())\n",
    "            \n",
    "            train_accs.append(np.mean(accs))\n",
    "            \n",
    "            x, y = test_set.tensors\n",
    "\n",
    "            accs = list()\n",
    "            \n",
    "            for i in range(0, x.shape[0], BATCH_SIZE):\n",
    "            \n",
    "                output = model_scrub(x[i:i+BATCH_SIZE].cuda())\n",
    "\n",
    "                predicted = torch.argmax(output.data, dim=-1)\n",
    "                accs.append((predicted == y[i:i+BATCH_SIZE].cuda()).float().mean().detach().cpu().numpy())\n",
    "            \n",
    "            test_accs.append(np.mean(accs))\n",
    "            \n",
    "\n",
    "            x, y = forget_set.tensors\n",
    "\n",
    "            accs = list()\n",
    "\n",
    "            for i in range(0, x.shape[0], BATCH_SIZE):\n",
    "\n",
    "                output = model_scrub(x[i:i+BATCH_SIZE].cuda())\n",
    "\n",
    "                predicted = torch.argmax(output.data, dim=-1)\n",
    "                accs.append((predicted == y[i:i+BATCH_SIZE].cuda()).float().mean().detach().cpu().numpy())\n",
    "\n",
    "            forget_accs.append(np.mean(accs))\n",
    "        \n",
    "        # save\n",
    "        torch.save(model_scrub.state_dict(), os.path.join(save_dir, f'{(epoch+1):03d}.pt'))\n",
    "\n",
    "    return train_times, train_accs, test_accs, forget_accs"
   ]
  },
  {
   "cell_type": "code",
   "execution_count": 8,
   "id": "2b63ab35-3fa9-4de3-a187-fcf21d8b5586",
   "metadata": {},
   "outputs": [
    {
     "data": {
      "application/vnd.jupyter.widget-view+json": {
       "model_id": "a86c14921e11499aaf92cb392926b664",
       "version_major": 2,
       "version_minor": 0
      },
      "text/plain": [
       "  0%|          | 0/11 [00:00<?, ?it/s]"
      ]
     },
     "metadata": {},
     "output_type": "display_data"
    },
    {
     "data": {
      "application/vnd.jupyter.widget-view+json": {
       "model_id": "",
       "version_major": 2,
       "version_minor": 0
      },
      "text/plain": [
       "  0%|          | 0/233 [00:00<?, ?it/s]"
      ]
     },
     "metadata": {},
     "output_type": "display_data"
    },
    {
     "data": {
      "application/vnd.jupyter.widget-view+json": {
       "model_id": "",
       "version_major": 2,
       "version_minor": 0
      },
      "text/plain": [
       "  0%|          | 0/3 [00:00<?, ?it/s]"
      ]
     },
     "metadata": {},
     "output_type": "display_data"
    },
    {
     "data": {
      "application/vnd.jupyter.widget-view+json": {
       "model_id": "",
       "version_major": 2,
       "version_minor": 0
      },
      "text/plain": [
       "  0%|          | 0/211 [00:00<?, ?it/s]"
      ]
     },
     "metadata": {},
     "output_type": "display_data"
    },
    {
     "data": {
      "application/vnd.jupyter.widget-view+json": {
       "model_id": "",
       "version_major": 2,
       "version_minor": 0
      },
      "text/plain": [
       "  0%|          | 0/24 [00:00<?, ?it/s]"
      ]
     },
     "metadata": {},
     "output_type": "display_data"
    },
    {
     "data": {
      "application/vnd.jupyter.widget-view+json": {
       "model_id": "",
       "version_major": 2,
       "version_minor": 0
      },
      "text/plain": [
       "  0%|          | 0/188 [00:00<?, ?it/s]"
      ]
     },
     "metadata": {},
     "output_type": "display_data"
    },
    {
     "data": {
      "application/vnd.jupyter.widget-view+json": {
       "model_id": "",
       "version_major": 2,
       "version_minor": 0
      },
      "text/plain": [
       "  0%|          | 0/47 [00:00<?, ?it/s]"
      ]
     },
     "metadata": {},
     "output_type": "display_data"
    },
    {
     "data": {
      "application/vnd.jupyter.widget-view+json": {
       "model_id": "",
       "version_major": 2,
       "version_minor": 0
      },
      "text/plain": [
       "  0%|          | 0/165 [00:00<?, ?it/s]"
      ]
     },
     "metadata": {},
     "output_type": "display_data"
    },
    {
     "data": {
      "application/vnd.jupyter.widget-view+json": {
       "model_id": "",
       "version_major": 2,
       "version_minor": 0
      },
      "text/plain": [
       "  0%|          | 0/71 [00:00<?, ?it/s]"
      ]
     },
     "metadata": {},
     "output_type": "display_data"
    },
    {
     "data": {
      "application/vnd.jupyter.widget-view+json": {
       "model_id": "",
       "version_major": 2,
       "version_minor": 0
      },
      "text/plain": [
       "  0%|          | 0/141 [00:00<?, ?it/s]"
      ]
     },
     "metadata": {},
     "output_type": "display_data"
    },
    {
     "data": {
      "application/vnd.jupyter.widget-view+json": {
       "model_id": "",
       "version_major": 2,
       "version_minor": 0
      },
      "text/plain": [
       "  0%|          | 0/94 [00:00<?, ?it/s]"
      ]
     },
     "metadata": {},
     "output_type": "display_data"
    },
    {
     "data": {
      "application/vnd.jupyter.widget-view+json": {
       "model_id": "",
       "version_major": 2,
       "version_minor": 0
      },
      "text/plain": [
       "  0%|          | 0/118 [00:00<?, ?it/s]"
      ]
     },
     "metadata": {},
     "output_type": "display_data"
    },
    {
     "data": {
      "application/vnd.jupyter.widget-view+json": {
       "model_id": "",
       "version_major": 2,
       "version_minor": 0
      },
      "text/plain": [
       "  0%|          | 0/118 [00:00<?, ?it/s]"
      ]
     },
     "metadata": {},
     "output_type": "display_data"
    },
    {
     "data": {
      "application/vnd.jupyter.widget-view+json": {
       "model_id": "",
       "version_major": 2,
       "version_minor": 0
      },
      "text/plain": [
       "  0%|          | 0/94 [00:00<?, ?it/s]"
      ]
     },
     "metadata": {},
     "output_type": "display_data"
    },
    {
     "data": {
      "application/vnd.jupyter.widget-view+json": {
       "model_id": "",
       "version_major": 2,
       "version_minor": 0
      },
      "text/plain": [
       "  0%|          | 0/141 [00:00<?, ?it/s]"
      ]
     },
     "metadata": {},
     "output_type": "display_data"
    },
    {
     "data": {
      "application/vnd.jupyter.widget-view+json": {
       "model_id": "",
       "version_major": 2,
       "version_minor": 0
      },
      "text/plain": [
       "  0%|          | 0/71 [00:00<?, ?it/s]"
      ]
     },
     "metadata": {},
     "output_type": "display_data"
    },
    {
     "data": {
      "application/vnd.jupyter.widget-view+json": {
       "model_id": "",
       "version_major": 2,
       "version_minor": 0
      },
      "text/plain": [
       "  0%|          | 0/165 [00:00<?, ?it/s]"
      ]
     },
     "metadata": {},
     "output_type": "display_data"
    },
    {
     "data": {
      "application/vnd.jupyter.widget-view+json": {
       "model_id": "",
       "version_major": 2,
       "version_minor": 0
      },
      "text/plain": [
       "  0%|          | 0/47 [00:00<?, ?it/s]"
      ]
     },
     "metadata": {},
     "output_type": "display_data"
    },
    {
     "data": {
      "application/vnd.jupyter.widget-view+json": {
       "model_id": "",
       "version_major": 2,
       "version_minor": 0
      },
      "text/plain": [
       "  0%|          | 0/188 [00:00<?, ?it/s]"
      ]
     },
     "metadata": {},
     "output_type": "display_data"
    },
    {
     "data": {
      "application/vnd.jupyter.widget-view+json": {
       "model_id": "",
       "version_major": 2,
       "version_minor": 0
      },
      "text/plain": [
       "  0%|          | 0/24 [00:00<?, ?it/s]"
      ]
     },
     "metadata": {},
     "output_type": "display_data"
    },
    {
     "data": {
      "application/vnd.jupyter.widget-view+json": {
       "model_id": "",
       "version_major": 2,
       "version_minor": 0
      },
      "text/plain": [
       "  0%|          | 0/211 [00:00<?, ?it/s]"
      ]
     },
     "metadata": {},
     "output_type": "display_data"
    },
    {
     "data": {
      "application/vnd.jupyter.widget-view+json": {
       "model_id": "",
       "version_major": 2,
       "version_minor": 0
      },
      "text/plain": [
       "  0%|          | 0/3 [00:00<?, ?it/s]"
      ]
     },
     "metadata": {},
     "output_type": "display_data"
    },
    {
     "data": {
      "application/vnd.jupyter.widget-view+json": {
       "model_id": "",
       "version_major": 2,
       "version_minor": 0
      },
      "text/plain": [
       "  0%|          | 0/233 [00:00<?, ?it/s]"
      ]
     },
     "metadata": {},
     "output_type": "display_data"
    }
   ],
   "source": [
    "results = list()\n",
    "\n",
    "for percentage in tqdm(PERCENTAGES):\n",
    "    \n",
    "    model = CNN().cuda()\n",
    "\n",
    "    model.load_state_dict(torch.load('./weights/original/005.pt'))\n",
    "\n",
    "    model_init = CNN().cuda()\n",
    "\n",
    "    model_init.load_state_dict(torch.load('./weights/init.pt'))\n",
    "    \n",
    "    train_set, test_set, forget_set = load_deleted_dataset(DATA_DIR, percentage)\n",
    "\n",
    "    train_times, train_accs, test_accs, forget_accs = fit(model, model_init, f'weights/SelectiveForgetting/{percentage}', train_set, test_set, forget_set)\n",
    "    \n",
    "    df = pd.DataFrame(zip(train_times, train_accs, test_accs, forget_accs), columns=['train_time', 'train_acc', 'test_acc', 'forget_acc'])\n",
    "    df['epoch'] = range(1, EPOCHS+1)\n",
    "    df['percentage'] = percentage\n",
    "    \n",
    "    results.append(df)"
   ]
  },
  {
   "cell_type": "code",
   "execution_count": 9,
   "id": "3c7204ae-4e27-42eb-9b31-3e9303e323d8",
   "metadata": {},
   "outputs": [
    {
     "data": {
      "text/html": [
       "<div>\n",
       "<style scoped>\n",
       "    .dataframe tbody tr th:only-of-type {\n",
       "        vertical-align: middle;\n",
       "    }\n",
       "\n",
       "    .dataframe tbody tr th {\n",
       "        vertical-align: top;\n",
       "    }\n",
       "\n",
       "    .dataframe thead th {\n",
       "        text-align: right;\n",
       "    }\n",
       "</style>\n",
       "<table border=\"1\" class=\"dataframe\">\n",
       "  <thead>\n",
       "    <tr style=\"text-align: right;\">\n",
       "      <th></th>\n",
       "      <th></th>\n",
       "      <th>train_time</th>\n",
       "      <th>train_acc</th>\n",
       "      <th>test_acc</th>\n",
       "      <th>forget_acc</th>\n",
       "    </tr>\n",
       "    <tr>\n",
       "      <th>percentage</th>\n",
       "      <th>epoch</th>\n",
       "      <th></th>\n",
       "      <th></th>\n",
       "      <th></th>\n",
       "      <th></th>\n",
       "    </tr>\n",
       "  </thead>\n",
       "  <tbody>\n",
       "    <tr>\n",
       "      <th>1</th>\n",
       "      <th>1</th>\n",
       "      <td>26.679327</td>\n",
       "      <td>0.987191</td>\n",
       "      <td>0.986133</td>\n",
       "      <td>0.990885</td>\n",
       "    </tr>\n",
       "    <tr>\n",
       "      <th>10</th>\n",
       "      <th>1</th>\n",
       "      <td>23.677634</td>\n",
       "      <td>0.987169</td>\n",
       "      <td>0.986230</td>\n",
       "      <td>0.986886</td>\n",
       "    </tr>\n",
       "    <tr>\n",
       "      <th>20</th>\n",
       "      <th>1</th>\n",
       "      <td>23.422085</td>\n",
       "      <td>0.986931</td>\n",
       "      <td>0.986133</td>\n",
       "      <td>0.986417</td>\n",
       "    </tr>\n",
       "    <tr>\n",
       "      <th>30</th>\n",
       "      <th>1</th>\n",
       "      <td>23.067099</td>\n",
       "      <td>0.987121</td>\n",
       "      <td>0.986426</td>\n",
       "      <td>0.987335</td>\n",
       "    </tr>\n",
       "    <tr>\n",
       "      <th>40</th>\n",
       "      <th>1</th>\n",
       "      <td>23.051812</td>\n",
       "      <td>0.986824</td>\n",
       "      <td>0.986719</td>\n",
       "      <td>0.987215</td>\n",
       "    </tr>\n",
       "    <tr>\n",
       "      <th>50</th>\n",
       "      <th>1</th>\n",
       "      <td>21.964149</td>\n",
       "      <td>0.986957</td>\n",
       "      <td>0.986133</td>\n",
       "      <td>0.987255</td>\n",
       "    </tr>\n",
       "    <tr>\n",
       "      <th>60</th>\n",
       "      <th>1</th>\n",
       "      <td>21.510948</td>\n",
       "      <td>0.986979</td>\n",
       "      <td>0.986426</td>\n",
       "      <td>0.986547</td>\n",
       "    </tr>\n",
       "    <tr>\n",
       "      <th>70</th>\n",
       "      <th>1</th>\n",
       "      <td>21.947019</td>\n",
       "      <td>0.988006</td>\n",
       "      <td>0.986426</td>\n",
       "      <td>0.986695</td>\n",
       "    </tr>\n",
       "    <tr>\n",
       "      <th>80</th>\n",
       "      <th>1</th>\n",
       "      <td>21.373967</td>\n",
       "      <td>0.987937</td>\n",
       "      <td>0.985742</td>\n",
       "      <td>0.986453</td>\n",
       "    </tr>\n",
       "    <tr>\n",
       "      <th>90</th>\n",
       "      <th>1</th>\n",
       "      <td>20.285455</td>\n",
       "      <td>0.989374</td>\n",
       "      <td>0.985937</td>\n",
       "      <td>0.986145</td>\n",
       "    </tr>\n",
       "    <tr>\n",
       "      <th>99</th>\n",
       "      <th>1</th>\n",
       "      <td>18.991802</td>\n",
       "      <td>0.989702</td>\n",
       "      <td>0.984961</td>\n",
       "      <td>0.985549</td>\n",
       "    </tr>\n",
       "  </tbody>\n",
       "</table>\n",
       "</div>"
      ],
      "text/plain": [
       "                  train_time  train_acc  test_acc  forget_acc\n",
       "percentage epoch                                             \n",
       "1          1       26.679327   0.987191  0.986133    0.990885\n",
       "10         1       23.677634   0.987169  0.986230    0.986886\n",
       "20         1       23.422085   0.986931  0.986133    0.986417\n",
       "30         1       23.067099   0.987121  0.986426    0.987335\n",
       "40         1       23.051812   0.986824  0.986719    0.987215\n",
       "50         1       21.964149   0.986957  0.986133    0.987255\n",
       "60         1       21.510948   0.986979  0.986426    0.986547\n",
       "70         1       21.947019   0.988006  0.986426    0.986695\n",
       "80         1       21.373967   0.987937  0.985742    0.986453\n",
       "90         1       20.285455   0.989374  0.985937    0.986145\n",
       "99         1       18.991802   0.989702  0.984961    0.985549"
      ]
     },
     "execution_count": 9,
     "metadata": {},
     "output_type": "execute_result"
    }
   ],
   "source": [
    "results = pd.concat(results).set_index(['percentage', 'epoch'])\n",
    "\n",
    "results.to_csv('results/SelectiveForgetting.csv')\n",
    "\n",
    "results"
   ]
  },
  {
   "cell_type": "code",
   "execution_count": null,
   "id": "7cc216bd-0b83-4a55-8ee6-17ade7530374",
   "metadata": {},
   "outputs": [],
   "source": []
  }
 ],
 "metadata": {
  "kernelspec": {
   "display_name": "torch",
   "language": "python",
   "name": "torch"
  },
  "language_info": {
   "codemirror_mode": {
    "name": "ipython",
    "version": 3
   },
   "file_extension": ".py",
   "mimetype": "text/x-python",
   "name": "python",
   "nbconvert_exporter": "python",
   "pygments_lexer": "ipython3",
   "version": "3.11.0"
  }
 },
 "nbformat": 4,
 "nbformat_minor": 5
}
